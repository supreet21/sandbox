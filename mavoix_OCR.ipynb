{
  "nbformat": 4,
  "nbformat_minor": 0,
  "metadata": {
    "colab": {
      "name": "mavoix-OCR.ipynb",
      "provenance": [],
      "authorship_tag": "ABX9TyPkmFCZQaxa7lii5SgDlvsI",
      "include_colab_link": true
    },
    "kernelspec": {
      "name": "python3",
      "display_name": "Python 3"
    },
    "accelerator": "GPU"
  },
  "cells": [
    {
      "cell_type": "markdown",
      "metadata": {
        "id": "view-in-github",
        "colab_type": "text"
      },
      "source": [
        "<a href=\"https://colab.research.google.com/github/supreet21/sandbox/blob/master/mavoix_OCR.ipynb\" target=\"_parent\"><img src=\"https://colab.research.google.com/assets/colab-badge.svg\" alt=\"Open In Colab\"/></a>"
      ]
    },
    {
      "cell_type": "code",
      "metadata": {
        "id": "ShFJDL7Q923a",
        "colab_type": "code",
        "colab": {
          "base_uri": "https://localhost:8080/",
          "height": 1125
        },
        "outputId": "c5ea395c-77b5-40c3-edba-c6ad5b5f024b"
      },
      "source": [
        "!sudo apt install tesseract-ocr\n",
        "!sudo apt install libtesseract-dev"
      ],
      "execution_count": 1,
      "outputs": [
        {
          "output_type": "stream",
          "text": [
            "Reading package lists... Done\n",
            "Building dependency tree       \n",
            "Reading state information... Done\n",
            "The following additional packages will be installed:\n",
            "  tesseract-ocr-eng tesseract-ocr-osd\n",
            "The following NEW packages will be installed:\n",
            "  tesseract-ocr tesseract-ocr-eng tesseract-ocr-osd\n",
            "0 upgraded, 3 newly installed, 0 to remove and 25 not upgraded.\n",
            "Need to get 4,795 kB of archives.\n",
            "After this operation, 15.8 MB of additional disk space will be used.\n",
            "Get:1 http://archive.ubuntu.com/ubuntu bionic/universe amd64 tesseract-ocr-eng all 4.00~git24-0e00fe6-1.2 [1,588 kB]\n",
            "Get:2 http://archive.ubuntu.com/ubuntu bionic/universe amd64 tesseract-ocr-osd all 4.00~git24-0e00fe6-1.2 [2,989 kB]\n",
            "Get:3 http://archive.ubuntu.com/ubuntu bionic/universe amd64 tesseract-ocr amd64 4.00~git2288-10f4998a-2 [218 kB]\n",
            "Fetched 4,795 kB in 2s (2,892 kB/s)\n",
            "debconf: unable to initialize frontend: Dialog\n",
            "debconf: (No usable dialog-like program is installed, so the dialog based frontend cannot be used. at /usr/share/perl5/Debconf/FrontEnd/Dialog.pm line 76, <> line 3.)\n",
            "debconf: falling back to frontend: Readline\n",
            "debconf: unable to initialize frontend: Readline\n",
            "debconf: (This frontend requires a controlling tty.)\n",
            "debconf: falling back to frontend: Teletype\n",
            "dpkg-preconfigure: unable to re-open stdin: \n",
            "Selecting previously unselected package tesseract-ocr-eng.\n",
            "(Reading database ... 144568 files and directories currently installed.)\n",
            "Preparing to unpack .../tesseract-ocr-eng_4.00~git24-0e00fe6-1.2_all.deb ...\n",
            "Unpacking tesseract-ocr-eng (4.00~git24-0e00fe6-1.2) ...\n",
            "Selecting previously unselected package tesseract-ocr-osd.\n",
            "Preparing to unpack .../tesseract-ocr-osd_4.00~git24-0e00fe6-1.2_all.deb ...\n",
            "Unpacking tesseract-ocr-osd (4.00~git24-0e00fe6-1.2) ...\n",
            "Selecting previously unselected package tesseract-ocr.\n",
            "Preparing to unpack .../tesseract-ocr_4.00~git2288-10f4998a-2_amd64.deb ...\n",
            "Unpacking tesseract-ocr (4.00~git2288-10f4998a-2) ...\n",
            "Setting up tesseract-ocr-osd (4.00~git24-0e00fe6-1.2) ...\n",
            "Setting up tesseract-ocr-eng (4.00~git24-0e00fe6-1.2) ...\n",
            "Setting up tesseract-ocr (4.00~git2288-10f4998a-2) ...\n",
            "Processing triggers for man-db (2.8.3-2ubuntu0.1) ...\n",
            "Reading package lists... Done\n",
            "Building dependency tree       \n",
            "Reading state information... Done\n",
            "The following additional packages will be installed:\n",
            "  libleptonica-dev\n",
            "The following NEW packages will be installed:\n",
            "  libleptonica-dev libtesseract-dev\n",
            "0 upgraded, 2 newly installed, 0 to remove and 25 not upgraded.\n",
            "Need to get 2,755 kB of archives.\n",
            "After this operation, 13.8 MB of additional disk space will be used.\n",
            "Get:1 http://archive.ubuntu.com/ubuntu bionic/universe amd64 libleptonica-dev amd64 1.75.3-3 [1,308 kB]\n",
            "Get:2 http://archive.ubuntu.com/ubuntu bionic/universe amd64 libtesseract-dev amd64 4.00~git2288-10f4998a-2 [1,447 kB]\n",
            "Fetched 2,755 kB in 1s (1,885 kB/s)\n",
            "debconf: unable to initialize frontend: Dialog\n",
            "debconf: (No usable dialog-like program is installed, so the dialog based frontend cannot be used. at /usr/share/perl5/Debconf/FrontEnd/Dialog.pm line 76, <> line 2.)\n",
            "debconf: falling back to frontend: Readline\n",
            "debconf: unable to initialize frontend: Readline\n",
            "debconf: (This frontend requires a controlling tty.)\n",
            "debconf: falling back to frontend: Teletype\n",
            "dpkg-preconfigure: unable to re-open stdin: \n",
            "Selecting previously unselected package libleptonica-dev.\n",
            "(Reading database ... 144615 files and directories currently installed.)\n",
            "Preparing to unpack .../libleptonica-dev_1.75.3-3_amd64.deb ...\n",
            "Unpacking libleptonica-dev (1.75.3-3) ...\n",
            "Selecting previously unselected package libtesseract-dev.\n",
            "Preparing to unpack .../libtesseract-dev_4.00~git2288-10f4998a-2_amd64.deb ...\n",
            "Unpacking libtesseract-dev (4.00~git2288-10f4998a-2) ...\n",
            "Setting up libleptonica-dev (1.75.3-3) ...\n",
            "Setting up libtesseract-dev (4.00~git2288-10f4998a-2) ...\n"
          ],
          "name": "stdout"
        }
      ]
    },
    {
      "cell_type": "code",
      "metadata": {
        "id": "bVVrap1l-NDX",
        "colab_type": "code",
        "colab": {
          "base_uri": "https://localhost:8080/",
          "height": 119
        },
        "outputId": "f41b54d7-3d69-44d1-c752-1d7d1cc5c3e0"
      },
      "source": [
        "!git clone https://github.com/supreet21/sandbox.git"
      ],
      "execution_count": 3,
      "outputs": [
        {
          "output_type": "stream",
          "text": [
            "Cloning into 'sandbox'...\n",
            "remote: Enumerating objects: 32, done.\u001b[K\n",
            "remote: Counting objects:   3% (1/32)\u001b[K\rremote: Counting objects:   6% (2/32)\u001b[K\rremote: Counting objects:   9% (3/32)\u001b[K\rremote: Counting objects:  12% (4/32)\u001b[K\rremote: Counting objects:  15% (5/32)\u001b[K\rremote: Counting objects:  18% (6/32)\u001b[K\rremote: Counting objects:  21% (7/32)\u001b[K\rremote: Counting objects:  25% (8/32)\u001b[K\rremote: Counting objects:  28% (9/32)\u001b[K\rremote: Counting objects:  31% (10/32)\u001b[K\rremote: Counting objects:  34% (11/32)\u001b[K\rremote: Counting objects:  37% (12/32)\u001b[K\rremote: Counting objects:  40% (13/32)\u001b[K\rremote: Counting objects:  43% (14/32)\u001b[K\rremote: Counting objects:  46% (15/32)\u001b[K\rremote: Counting objects:  50% (16/32)\u001b[K\rremote: Counting objects:  53% (17/32)\u001b[K\rremote: Counting objects:  56% (18/32)\u001b[K\rremote: Counting objects:  59% (19/32)\u001b[K\rremote: Counting objects:  62% (20/32)\u001b[K\rremote: Counting objects:  65% (21/32)\u001b[K\rremote: Counting objects:  68% (22/32)\u001b[K\rremote: Counting objects:  71% (23/32)\u001b[K\rremote: Counting objects:  75% (24/32)\u001b[K\rremote: Counting objects:  78% (25/32)\u001b[K\rremote: Counting objects:  81% (26/32)\u001b[K\rremote: Counting objects:  84% (27/32)\u001b[K\rremote: Counting objects:  87% (28/32)\u001b[K\rremote: Counting objects:  90% (29/32)\u001b[K\rremote: Counting objects:  93% (30/32)\u001b[K\rremote: Counting objects:  96% (31/32)\u001b[K\rremote: Counting objects: 100% (32/32)\u001b[K\rremote: Counting objects: 100% (32/32), done.\u001b[K\n",
            "remote: Compressing objects: 100% (30/30), done.\u001b[K\n",
            "remote: Total 32 (delta 0), reused 32 (delta 0), pack-reused 0\u001b[K\n",
            "Unpacking objects: 100% (32/32), done.\n"
          ],
          "name": "stdout"
        }
      ]
    },
    {
      "cell_type": "code",
      "metadata": {
        "id": "cbHlw2nz-Yd8",
        "colab_type": "code",
        "colab": {
          "base_uri": "https://localhost:8080/",
          "height": 34
        },
        "outputId": "fecef987-cf1b-4d42-c71a-62754021f786"
      },
      "source": [
        "ls"
      ],
      "execution_count": 4,
      "outputs": [
        {
          "output_type": "stream",
          "text": [
            "\u001b[0m\u001b[01;34msample_data\u001b[0m/  \u001b[01;34msandbox\u001b[0m/\n"
          ],
          "name": "stdout"
        }
      ]
    },
    {
      "cell_type": "code",
      "metadata": {
        "id": "-FMNyF8N_Rae",
        "colab_type": "code",
        "colab": {
          "base_uri": "https://localhost:8080/",
          "height": 34
        },
        "outputId": "6d55bcd6-6f63-4a22-ce1f-f217e3f1e4e2"
      },
      "source": [
        "cd sandbox/"
      ],
      "execution_count": 7,
      "outputs": [
        {
          "output_type": "stream",
          "text": [
            "/content/sandbox\n"
          ],
          "name": "stdout"
        }
      ]
    },
    {
      "cell_type": "code",
      "metadata": {
        "id": "VU8utSaf_cfE",
        "colab_type": "code",
        "colab": {
          "base_uri": "https://localhost:8080/",
          "height": 34
        },
        "outputId": "b6ed7afc-80bb-4e2c-ee1b-a6af60c20b3b"
      },
      "source": [
        "ls"
      ],
      "execution_count": 8,
      "outputs": [
        {
          "output_type": "stream",
          "text": [
            "\u001b[0m\u001b[01;34mfullstack\u001b[0m/  \u001b[01;34mml-dl-ds\u001b[0m/  \u001b[01;34mwebapp\u001b[0m/\n"
          ],
          "name": "stdout"
        }
      ]
    },
    {
      "cell_type": "code",
      "metadata": {
        "id": "fe9OU3n-_dLo",
        "colab_type": "code",
        "colab": {
          "base_uri": "https://localhost:8080/",
          "height": 34
        },
        "outputId": "b97c56b8-760e-452c-9e41-1ec3b41beac9"
      },
      "source": [
        "cd ml-dl-ds/assignment_v3/data-set/"
      ],
      "execution_count": 9,
      "outputs": [
        {
          "output_type": "stream",
          "text": [
            "/content/sandbox/ml-dl-ds/assignment_v3/data-set\n"
          ],
          "name": "stdout"
        }
      ]
    },
    {
      "cell_type": "code",
      "metadata": {
        "id": "IED2Uwb4_nPU",
        "colab_type": "code",
        "colab": {
          "base_uri": "https://localhost:8080/",
          "height": 51
        },
        "outputId": "ad8cb997-3a43-444b-b940-3941551fbf30"
      },
      "source": [
        "ls"
      ],
      "execution_count": 10,
      "outputs": [
        {
          "output_type": "stream",
          "text": [
            "ms-10.jpg  ms-2.JPG  ms-4.jpg  ms-6.jpg  ms-8.jpg\n",
            "ms-1.jpg   ms-3.jpg  ms-5.JPG  ms-7.jpg  ms-9.jpg\n"
          ],
          "name": "stdout"
        }
      ]
    },
    {
      "cell_type": "code",
      "metadata": {
        "id": "B6GquLOZAAlR",
        "colab_type": "code",
        "colab": {
          "base_uri": "https://localhost:8080/",
          "height": 207
        },
        "outputId": "18852b3c-a82e-4388-dd55-4ca01ad861b9"
      },
      "source": [
        "!pip install pytesseract"
      ],
      "execution_count": 12,
      "outputs": [
        {
          "output_type": "stream",
          "text": [
            "Collecting pytesseract\n",
            "  Downloading https://files.pythonhosted.org/packages/1d/d8/521db389ff0aae32035bfda6ed39cb2c2e28521c47015f6431f07460c50a/pytesseract-0.3.4.tar.gz\n",
            "Requirement already satisfied: Pillow in /usr/local/lib/python3.6/dist-packages (from pytesseract) (7.0.0)\n",
            "Building wheels for collected packages: pytesseract\n",
            "  Building wheel for pytesseract (setup.py) ... \u001b[?25l\u001b[?25hdone\n",
            "  Created wheel for pytesseract: filename=pytesseract-0.3.4-py2.py3-none-any.whl size=13431 sha256=05a49ac525f2066193950177df27a6bdac52ad47940d9863d3bd964d1c6317a2\n",
            "  Stored in directory: /root/.cache/pip/wheels/63/2a/a0/7596d2e0a73cf0aeffd6f6170862c4e73f3763b7827e48691a\n",
            "Successfully built pytesseract\n",
            "Installing collected packages: pytesseract\n",
            "Successfully installed pytesseract-0.3.4\n"
          ],
          "name": "stdout"
        }
      ]
    },
    {
      "cell_type": "code",
      "metadata": {
        "id": "TPOnzYC5_nk7",
        "colab_type": "code",
        "colab": {}
      },
      "source": [
        "\n",
        "import cv2 \n",
        "import pytesseract\n",
        "\n",
        "img = cv2.imread('ms-7.jpg')\n",
        "\n",
        "# Adding custom options\n",
        "custom_config = r'--oem 3 --psm 6'\n",
        "str1 = pytesseract.image_to_string(img, config=custom_config)"
      ],
      "execution_count": 0,
      "outputs": []
    },
    {
      "cell_type": "code",
      "metadata": {
        "id": "uG_OhR53AHiF",
        "colab_type": "code",
        "colab": {
          "base_uri": "https://localhost:8080/",
          "height": 54
        },
        "outputId": "f027b75e-b039-4f26-c4a4-956248f036c5"
      },
      "source": [
        "str1"
      ],
      "execution_count": 15,
      "outputs": [
        {
          "output_type": "execute_result",
          "data": {
            "text/plain": [
              "\"a\\noni Satta create fra ats\\nS.No, SSCE/2008/ CENTRAL BOARD OF SECONDARY EDUCATION -\\n303622 % faaxftret MARKS STATEMENT\\nWifrar epar afefire oer, 2008\\nALL INDIA SENIOR SCHOOL CERTIFICATE EXAMINATION, 2008 a\\nIM Name ABHINAV BISWAS SEPPAG RollNo. 5.59695\\nAla @T ATA Mother's Name APARNA BISWAS\\nfeat a1 AFH Fathers Name x ARUNAMOY BISWAS\\nfaeNeTA Schotgaeea ARMY SCHOOL. BARRACKPORE CANTT 24 PARGANAS WB\\nhae Rate ;\\nSUB. fava SUBJECT fe. a ar eer POSITIONA\\\\\\na 2 ee\\n301 | ENGLISH CORE O87 | XXX | 087 EIGHTY SEVEN] Al\\n041 | MATHEMATICS OFS | Xxx | O95 NINETY FIVE Al i\\n042 | PHYSICS 058 | 030 | 088 EIGHTY EIGHT] A1\\n043 | CHEMISTRY 066 | O29 | O95 NINETY FIVE al\\n083 | COMPUTER SCIENCE 62 | O30 | osz NINETY TWO Al\\n048 | PHYSICAL EDUCATION | 065 | O23 | uaa EIGHTY EIGHT] Al\\n500 | WORK EXPERIENCE BL\\n502 | PHY & HEALTH EDUCA AL\\n503 | GENERAL STUDIES az\\n‘ifeiferai a1 opi: Abbreviations\\nAB ; f9a 4 arqufera Absent in the Subject afore Result\\nEX: Be-ATeI Exempted i PASS :\\nFP: weitere 4 stetpet Fail in Practical’ | Aarts!\\nFT :feiftza 4 sree Fail in Theory (Migharme\\nfeeeit Delhi = utter Prise\\nferia Dated 23-05-2008 Controller of Examinations ‘4\""
            ]
          },
          "metadata": {
            "tags": []
          },
          "execution_count": 15
        }
      ]
    },
    {
      "cell_type": "code",
      "metadata": {
        "id": "TZZjl1kJAgN5",
        "colab_type": "code",
        "colab": {}
      },
      "source": [
        "\n",
        "import cv2 \n",
        "import pytesseract\n",
        "\n",
        "img = cv2.imread('ms-8.jpg')\n",
        "\n",
        "# Adding custom options\n",
        "custom_config = r'--oem 3 --psm 6'\n",
        "str2 = pytesseract.image_to_string(img, config=custom_config)"
      ],
      "execution_count": 0,
      "outputs": []
    },
    {
      "cell_type": "code",
      "metadata": {
        "id": "Fmf_syKuBDzv",
        "colab_type": "code",
        "colab": {
          "base_uri": "https://localhost:8080/",
          "height": 34
        },
        "outputId": "ab51f284-834f-42c9-ef37-0c554befb41a"
      },
      "source": [
        "str2"
      ],
      "execution_count": 19,
      "outputs": [
        {
          "output_type": "execute_result",
          "data": {
            "text/plain": [
              "'[301 encusticore oo | fost _|\\nSc\\n|__ 042 _[Prvsios\\n[03 [oreMSTRY\\n[COMPUTER 199\\nWORK\\nia IPHY & HEALTH'"
            ]
          },
          "metadata": {
            "tags": []
          },
          "execution_count": 19
        }
      ]
    },
    {
      "cell_type": "code",
      "metadata": {
        "id": "xOB8VuwEBFO3",
        "colab_type": "code",
        "colab": {
          "base_uri": "https://localhost:8080/",
          "height": 34
        },
        "outputId": "8003d7ff-e2a2-4a77-9332-fbe42fc09c39"
      },
      "source": [
        "print(str1.find('MATHEMATICS'))"
      ],
      "execution_count": 22,
      "outputs": [
        {
          "output_type": "stream",
          "text": [
            "515\n"
          ],
          "name": "stdout"
        }
      ]
    },
    {
      "cell_type": "code",
      "metadata": {
        "id": "D-uiGI4JGK2l",
        "colab_type": "code",
        "colab": {}
      },
      "source": [
        "start_maths= str1.find('MATHEMATICS')\n",
        "start_phy= str1.find('PHYSICS')\n",
        "start_chem= str1.find('CHEMISTRY')\n"
      ],
      "execution_count": 0,
      "outputs": []
    },
    {
      "cell_type": "code",
      "metadata": {
        "id": "jMGuj9onGddq",
        "colab_type": "code",
        "colab": {
          "base_uri": "https://localhost:8080/",
          "height": 34
        },
        "outputId": "467a25e0-464c-41b9-ea17-3b6f3abe6f07"
      },
      "source": [
        "start\n"
      ],
      "execution_count": 31,
      "outputs": [
        {
          "output_type": "execute_result",
          "data": {
            "text/plain": [
              "515"
            ]
          },
          "metadata": {
            "tags": []
          },
          "execution_count": 31
        }
      ]
    },
    {
      "cell_type": "code",
      "metadata": {
        "id": "k50U3jzBQwQX",
        "colab_type": "code",
        "colab": {}
      },
      "source": [
        "res_maths = str1[start_maths:start_maths+40]\n",
        "res_phy = str1[start_phy:start_phy+40]\n",
        "res_chem = str1[start_chem:start_chem+40]"
      ],
      "execution_count": 0,
      "outputs": []
    },
    {
      "cell_type": "code",
      "metadata": {
        "id": "a16rV0ckT2yS",
        "colab_type": "code",
        "colab": {
          "base_uri": "https://localhost:8080/",
          "height": 34
        },
        "outputId": "f7fad93e-6bb9-46c3-85b9-11dcb1b59535"
      },
      "source": [
        "import re\n",
        "temp_maths = re.findall(r'\\d+', res_maths) \n",
        "temp_phy = re.findall(r'\\d+', res_phy) \n",
        "temp_chem = re.findall(r'\\d+', res_chem) \n",
        "\n",
        "\n",
        "res_maths = max(list(map(int, temp_maths)))\n",
        "res_phy = max(list(map(int, temp_phy)))\n",
        "res_chem = max(list(map(int, temp_chem)))\n",
        "\n",
        "PCM_score = (res_chem+res_maths+res_phy)/3\n",
        "if PCM_score>=90:\n",
        "  print(\"Campus-Alpha\")\n",
        "elif PCM_score>=80:\n",
        "  print(\"Campus-Beta\")\n",
        "elif PCM_score>=70:\n",
        "  print(\"Campus-Gama\")\n",
        "else:\n",
        "  print(\"sorry better luck next time\")"
      ],
      "execution_count": 46,
      "outputs": [
        {
          "output_type": "stream",
          "text": [
            "Campus-Alpha\n"
          ],
          "name": "stdout"
        }
      ]
    },
    {
      "cell_type": "code",
      "metadata": {
        "id": "uIH6RZGuQ3hp",
        "colab_type": "code",
        "colab": {
          "base_uri": "https://localhost:8080/",
          "height": 51
        },
        "outputId": "81154ec7-f25f-4e6d-8783-5116271d17b1"
      },
      "source": [
        "# Python3 code to demonstrate \n",
        "# getting numbers from string  \n",
        "# using re.findall() \n",
        "import re \n",
        "  \n",
        "# initializing string  \n",
        "test_string = res_phy\n",
        "  \n",
        "# printing original string  \n",
        "print(\"The original string : \" + test_string) \n",
        "  \n",
        "# using re.findall() \n",
        "# getting numbers from string  \n",
        "temp = re.findall(r'\\d+', test_string) \n",
        "res = list(map(int, temp)) \n",
        "  \n",
        "# print result \n",
        "print(\"The numbers list is : \" + str(res)) "
      ],
      "execution_count": 43,
      "outputs": [
        {
          "output_type": "stream",
          "text": [
            "The original string : PHYSICS 058 | 030 | 088 EIGHTY EIGHT] A1\n",
            "The numbers list is : [58, 30, 88, 1]\n"
          ],
          "name": "stdout"
        }
      ]
    },
    {
      "cell_type": "code",
      "metadata": {
        "id": "S0JJPtlAR37Q",
        "colab_type": "code",
        "colab": {
          "base_uri": "https://localhost:8080/",
          "height": 34
        },
        "outputId": "8a6c7b42-963f-4cce-c064-6b9d39614f96"
      },
      "source": [
        "max(res)"
      ],
      "execution_count": 45,
      "outputs": [
        {
          "output_type": "execute_result",
          "data": {
            "text/plain": [
              "88"
            ]
          },
          "metadata": {
            "tags": []
          },
          "execution_count": 45
        }
      ]
    },
    {
      "cell_type": "code",
      "metadata": {
        "id": "Fwg4vT3rTSJj",
        "colab_type": "code",
        "colab": {}
      },
      "source": [
        ""
      ],
      "execution_count": 0,
      "outputs": []
    }
  ]
}